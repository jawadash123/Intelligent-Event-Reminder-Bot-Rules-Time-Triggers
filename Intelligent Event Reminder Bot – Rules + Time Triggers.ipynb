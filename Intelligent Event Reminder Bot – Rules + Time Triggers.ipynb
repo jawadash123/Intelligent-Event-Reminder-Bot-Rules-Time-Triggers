{
 "cells": [
  {
   "cell_type": "code",
   "execution_count": null,
   "id": "8d980dce",
   "metadata": {},
   "outputs": [
    {
     "name": "stdout",
     "output_type": "stream",
     "text": [
      "\n",
      "🧠 Welcome to Manual Reminder Bot\n",
      "You will enter reminder message, time, and optionally day.\n",
      "Use 24-hour format for time, e.g., 14:00\n",
      "Type 'exit' as reminder to quit.\n",
      "\n"
     ]
    }
   ],
   "source": [
    "import pyttsx3\n",
    "import schedule\n",
    "import time\n",
    "import threading\n",
    "\n",
    "def speak(text):\n",
    "    try:\n",
    "        engine = pyttsx3.init()\n",
    "        engine.say(text)\n",
    "        engine.runAndWait()\n",
    "    except Exception as e:\n",
    "        print(\"[Voice Error]\", e)\n",
    "\n",
    "def notify(reminder_text):\n",
    "    print(\"\\n🔔 Reminder:\", reminder_text)\n",
    "    speak(reminder_text)\n",
    "\n",
    "def schedule_reminder(text, time_str, day_str=None):\n",
    "    if day_str:\n",
    "        try:\n",
    "            getattr(schedule.every(), day_str.lower()).at(time_str).do(lambda: notify(text))\n",
    "            return f\"✅ Reminder set for every {day_str.capitalize()} at {time_str}\"\n",
    "        except AttributeError:\n",
    "            return f\"⚠️ Invalid day: {day_str}. Please enter a valid weekday.\"\n",
    "    else:\n",
    "        schedule.every().day.at(time_str).do(lambda: notify(text))\n",
    "        return f\"✅ Daily reminder set at {time_str}\"\n",
    "\n",
    "def run_schedule():\n",
    "    while True:\n",
    "        schedule.run_pending()\n",
    "        time.sleep(1)\n",
    "\n",
    "def main():\n",
    "    print(\"\\n🧠 Welcome to Manual Reminder Bot\")\n",
    "    print(\"You will enter reminder message, time, and optionally day.\")\n",
    "    print(\"Use 24-hour format for time, e.g., 14:00\")\n",
    "    print(\"Type 'exit' as reminder to quit.\\n\")\n",
    "\n",
    "    threading.Thread(target=run_schedule, daemon=True).start()\n",
    "\n",
    "    while True:\n",
    "        reminder = input(\"📝 Enter your reminder: \")\n",
    "        if reminder.lower() == 'exit':\n",
    "            print(\"👋 Exiting bot. Khuda Hafiz!\")\n",
    "            break\n",
    "\n",
    "        time_input = input(\"⏰ Enter time (HH:MM): \")\n",
    "        day_input = input(\"📅 Enter day (optional, press enter to skip): \")\n",
    "\n",
    "        if day_input.strip() == '':\n",
    "            result = schedule_reminder(reminder, time_input)\n",
    "        else:\n",
    "            result = schedule_reminder(reminder, time_input, day_input)\n",
    "\n",
    "        print(result)\n",
    "\n",
    "main()\n"
   ]
  },
  {
   "cell_type": "code",
   "execution_count": null,
   "id": "6ab9131c",
   "metadata": {},
   "outputs": [],
   "source": []
  }
 ],
 "metadata": {
  "kernelspec": {
   "display_name": "Python 3 (ipykernel)",
   "language": "python",
   "name": "python3"
  }
 },
 "nbformat": 4,
 "nbformat_minor": 5
}
